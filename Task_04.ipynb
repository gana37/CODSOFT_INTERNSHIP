{
  "nbformat": 4,
  "nbformat_minor": 0,
  "metadata": {
    "colab": {
      "provenance": []
    },
    "kernelspec": {
      "name": "python3",
      "display_name": "Python 3"
    },
    "language_info": {
      "name": "python"
    }
  },
  "cells": [
    {
      "cell_type": "code",
      "execution_count": null,
      "metadata": {
        "colab": {
          "base_uri": "https://localhost:8080/"
        },
        "id": "q0qLkgPpgHyx",
        "outputId": "e4f2e5e5-22dd-4f4f-f127-c4c59131ffe8"
      },
      "outputs": [
        {
          "output_type": "stream",
          "name": "stdout",
          "text": [
            "Accuracy: 0.97847533632287\n",
            "\n",
            "Classification Report:\n",
            "               precision    recall  f1-score   support\n",
            "\n",
            "           0       0.98      0.99      0.99       965\n",
            "           1       0.96      0.87      0.92       150\n",
            "\n",
            "    accuracy                           0.98      1115\n",
            "   macro avg       0.97      0.93      0.95      1115\n",
            "weighted avg       0.98      0.98      0.98      1115\n",
            "\n"
          ]
        }
      ],
      "source": [
        "import pandas as pd\n",
        "from sklearn.model_selection import train_test_split\n",
        "from sklearn.feature_extraction.text import TfidfVectorizer\n",
        "from sklearn.svm import LinearSVC\n",
        "from sklearn.metrics import classification_report, accuracy_score\n",
        "\n",
        "# Load dataset\n",
        "df = pd.read_csv('/content/drive/MyDrive/spam.csv', encoding='latin-1')[['v1', 'v2']]\n",
        "df.columns = ['label', 'message']\n",
        "df['label'] = df['label'].map({'ham': 0, 'spam': 1})\n",
        "\n",
        "# Split dataset\n",
        "X_train, X_test, y_train, y_test = train_test_split(\n",
        "    df['message'], df['label'], test_size=0.2, random_state=42\n",
        ")\n",
        "\n",
        "# Convert text to TF-IDF features\n",
        "vectorizer = TfidfVectorizer(stop_words='english')\n",
        "X_train_tfidf = vectorizer.fit_transform(X_train)\n",
        "X_test_tfidf = vectorizer.transform(X_test)\n",
        "\n",
        "# Train Support Vector Machine model\n",
        "model = LinearSVC()\n",
        "model.fit(X_train_tfidf, y_train)\n",
        "\n",
        "# Make predictions\n",
        "y_pred = model.predict(X_test_tfidf)\n",
        "\n",
        "# Evaluate model\n",
        "print(\"Accuracy:\", accuracy_score(y_test, y_pred))\n",
        "print(\"\\nClassification Report:\\n\", classification_report(y_test, y_pred))\n"
      ]
    },
    {
      "source": [
        "import pandas as pd\n",
        "from sklearn.model_selection import train_test_split\n",
        "from sklearn.feature_extraction.text import TfidfVectorizer\n",
        "from sklearn.svm import LinearSVC\n",
        "from sklearn.metrics import classification_report, accuracy_score\n",
        "\n",
        "# Load dataset\n",
        "# Corrected file path to the location on Google Drive\n",
        "df = pd.read_csv('/content/drive/MyDrive/spam.csv', encoding='latin-1')[['v1', 'v2']]\n",
        "df.columns = ['label', 'message']\n",
        "df['label'] = df['label'].map({'ham': 0, 'spam': 1})\n",
        "\n",
        "# Split dataset\n",
        "X_train, X_test, y_train, y_test = train_test_split(\n",
        "    df['message'], df['label'], test_size=0.2, random_state=42\n",
        ")\n",
        "\n",
        "# Convert text to TF-IDF features\n",
        "vectorizer = TfidfVectorizer(stop_words='english')\n",
        "X_train_tfidf = vectorizer.fit_transform(X_train)\n",
        "X_test_tfidf = vectorizer.transform(X_test)\n",
        "\n",
        "# Train Support Vector Machine model\n",
        "model = LinearSVC()\n",
        "model.fit(X_train_tfidf, y_train)\n",
        "\n",
        "# Make predictions\n",
        "y_pred = model.predict(X_test_tfidf)\n",
        "\n",
        "# Evaluate model\n",
        "print(\"Accuracy:\", accuracy_score(y_test, y_pred))\n",
        "print(\"\\nClassification Report:\\n\", classification_report(y_test, y_pred))\n",
        "\n",
        "# ---- 🔮 Prediction for new messages ----\n",
        "def predict_message(text):\n",
        "    # Transform the new message using the same vectorizer\n",
        "    text_tfidf = vectorizer.transform([text])\n",
        "    # Get the prediction from the model\n",
        "    prediction = model.predict(text_tfidf)[0]\n",
        "    # Return the result based on the prediction\n",
        "    return \"SPAM\" if prediction == 1 else \"NOT SPAM\"\n",
        "\n",
        "# 🔧 Example usage\n",
        "while True:\n",
        "    user_input = input(\"\\nEnter an SMS message (or type 'exit' to quit):\\n> \")\n",
        "    if user_input.lower() == 'exit':\n",
        "        break\n",
        "    result = predict_message(user_input)\n",
        "    print(f\"Prediction: {result}\")"
      ],
      "cell_type": "code",
      "metadata": {
        "colab": {
          "base_uri": "https://localhost:8080/"
        },
        "id": "N7Z9nbaUhief",
        "outputId": "c6006d99-dfd4-45fd-b1bf-2a97d4d1ec4d"
      },
      "execution_count": null,
      "outputs": [
        {
          "name": "stdout",
          "output_type": "stream",
          "text": [
            "Accuracy: 0.97847533632287\n",
            "\n",
            "Classification Report:\n",
            "               precision    recall  f1-score   support\n",
            "\n",
            "           0       0.98      0.99      0.99       965\n",
            "           1       0.96      0.87      0.92       150\n",
            "\n",
            "    accuracy                           0.98      1115\n",
            "   macro avg       0.97      0.93      0.95      1115\n",
            "weighted avg       0.98      0.98      0.98      1115\n",
            "\n",
            "\n",
            "Enter an SMS message (or type 'exit' to quit):\n",
            "> hii\n",
            "Prediction: NOT SPAM\n",
            "\n",
            "Enter an SMS message (or type 'exit' to quit):\n",
            "> gfedfghjuyt\n",
            "Prediction: NOT SPAM\n",
            "\n",
            "Enter an SMS message (or type 'exit' to quit):\n",
            "> exit\n"
          ]
        }
      ]
    },
    {
      "source": [
        "# Load dataset\n",
        "df = pd.read_csv('/content/drive/MyDrive/spam.csv', encoding='latin-1')[['v1', 'v2']]"
      ],
      "cell_type": "code",
      "metadata": {
        "id": "Bkg5jZFuhZyV"
      },
      "execution_count": null,
      "outputs": []
    }
  ]
}